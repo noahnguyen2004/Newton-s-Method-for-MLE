{
  "nbformat": 4,
  "nbformat_minor": 0,
  "metadata": {
    "colab": {
      "provenance": [],
      "authorship_tag": "ABX9TyOuUQ49+vQYKHdpWnW5dcN1",
      "include_colab_link": true
    },
    "kernelspec": {
      "name": "python3",
      "display_name": "Python 3"
    },
    "language_info": {
      "name": "python"
    }
  },
  "cells": [
    {
      "cell_type": "markdown",
      "metadata": {
        "id": "view-in-github",
        "colab_type": "text"
      },
      "source": [
        "<a href=\"https://colab.research.google.com/github/noahnguyen2004/Newton-s-Method-for-MLE/blob/main/Newton's_Method_for_MLE.ipynb\" target=\"_parent\"><img src=\"https://colab.research.google.com/assets/colab-badge.svg\" alt=\"Open In Colab\"/></a>"
      ]
    },
    {
      "cell_type": "code",
      "source": [
        "import math\n",
        "import numpy as np\n",
        "import matplotlib.pyplot as plt"
      ],
      "metadata": {
        "id": "JtM-91G6nsDh"
      },
      "execution_count": 40,
      "outputs": []
    },
    {
      "cell_type": "code",
      "source": [
        "def newton_mle_poisson(v, y, theta, max_iters = 1000, epsilon = 1 * (10 ** (-10))):\n",
        "  '''\n",
        "    find MLE for censored Poisson models given data (v, y)\n",
        "    using Newton's method\n",
        "  '''\n",
        "  new_theta = theta\n",
        "  i = 0\n",
        "  convergence = False\n",
        "  theta_values = []\n",
        "\n",
        "  while (i < max_iters and not convergence):\n",
        "    theta = new_theta\n",
        "    print(theta)\n",
        "    u = np.exp(-theta * v)\n",
        "    first_deriv = np.sum((y * v * u) / (1 - u) - (1 - y) * v)\n",
        "    second_deriv = np.sum((y * (v ** 2) * u) / ((1 - u) ** 2))\n",
        "\n",
        "    new_theta = theta - first_deriv / second_deriv\n",
        "    convergence = np.abs(new_theta - theta) < epsilon\n",
        "    theta_values.append(new_theta)\n",
        "    i = i + 1\n",
        "  return theta, theta_values"
      ],
      "metadata": {
        "id": "nzYisSoQCnZW"
      },
      "execution_count": 92,
      "outputs": []
    },
    {
      "cell_type": "code",
      "execution_count": 53,
      "metadata": {
        "id": "7WCMPcVahqse"
      },
      "outputs": [],
      "source": [
        "# def newton_mle_poisson(v, y, theta, max_iters = 1000, epsilon = 1 * (10 ** (-10))):\n",
        "#   '''\n",
        "#       find MLE for censored Poisson models given data (v, y)\n",
        "#       using Newton's method\n",
        "#   '''\n",
        "#   new_theta = theta\n",
        "#   i = 0\n",
        "#   convergence = False\n",
        "#   theta_values = []\n",
        "\n",
        "\n",
        "#   # while (i < max_iters and not convergence):\n",
        "#   #   for i in range(len(v)):\n",
        "#   #     theta = new_theta\n",
        "#   #     u = np.exp(-theta * v[i])\n",
        "#   #     first_deriv = sum((y * v[i] * u) / (1 - u))\n",
        "\n",
        "#   # for i in range(len(v)):\n",
        "#   #   ...\n",
        "\n",
        "#   # for i in range(len(y)):\n",
        "#   #   ...\n",
        "\n",
        "#   while (i < max_iters and not convergence):\n",
        "#     theta = new_theta\n",
        "#     print(theta)                                                  # take a look at theta at each iteration\n",
        "#     u = np.exp(-theta * v)\n",
        "#     first_deriv = np.sum((y * v * u) / (1 - u) - (1 - y) * v)\n",
        "#     second_deriv = np.sum((y * (v ** 2) * u) / ((1 - u) ** 2))\n",
        "#     new_theta = theta - (first_deriv) / (second_deriv)            # update theta\n",
        "#     convergence = np.abs(new_theta - theta) < epsilon\n",
        "#     theta_values.append(new_theta)\n",
        "#     i = i + 1\n",
        "#   return theta, theta_values"
      ]
    },
    {
      "cell_type": "code",
      "source": [
        "def log_likelihood_poisson(theta, v, y):\n",
        "  '''\n",
        "    Compute log likelihood\n",
        "  '''\n",
        "  log_likelihood_lst = []\n",
        "  for i in range(len(v)):\n",
        "    u = math.exp(-theta * v)\n",
        "    log_likelihood_lst[i] = sum(y * np.log10(1 - u) + (1 - y) * (-theta * v))\n",
        "  log_likelihood = sum(log_likelihood_lst)\n",
        "  return log_likelihood"
      ],
      "metadata": {
        "id": "GeFwBArupHzj"
      },
      "execution_count": 93,
      "outputs": []
    },
    {
      "cell_type": "code",
      "source": [
        "# initialize some v and y\n",
        "v = np.array([8,8,8,8,8,8,8,8,8,8,\n",
        "              4,4,4,4,4,4,4,4,4,4,\n",
        "              2,2,2,2,2,2,2,2,2,2,\n",
        "              1,1,1,1,1,1,1,1,1,1])\n",
        "\n",
        "\n",
        "# v =           [8,8,8,8,8,8,8,8,8,8,\n",
        "#               4,4,4,4,4,4,4,4,4,4,\n",
        "#               2,2,2,2,2,2,2,2,2,2,\n",
        "#               1,1,1,1,1,1,1,1,1,1]\n",
        "\n",
        "# y =           [1,1,1,1,1,1,1,1,1,1,\n",
        "#               1,1,1,1,1,1,1,1,0,0,\n",
        "#               1,1,1,1,1,1,1,0,0,0,\n",
        "#               1,1,1,0,0,0,0,0,0,0]\n",
        "\n",
        "y = np.array([1,1,1,1,1,1,1,1,1,1,\n",
        "              1,1,1,1,1,1,1,1,0,0,\n",
        "              1,1,1,1,1,1,1,0,0,0,\n",
        "              1,1,1,0,0,0,0,0,0,0])\n",
        "\n",
        "init_theta = 0.1\n",
        "theta, theta_values = newton_mle_poisson(v, y, init_theta, 1000, 1.0 * (10 ** (-10)))\n",
        "\n",
        "\n",
        "\n",
        "print(len(theta_values))\n",
        "# run function to find theta_mle and the list of each theta and see how it behaves\n"
      ],
      "metadata": {
        "id": "5jCUpMB9qrSc"
      },
      "execution_count": null,
      "outputs": []
    },
    {
      "cell_type": "code",
      "source": [
        "fig, ax = plt.subplots()\n",
        "\n",
        "# Example data\n",
        "ax.plot(theta_values)\n",
        "\n",
        "# Manually set x and y ticks\n",
        "ax.set_xticks(range(0, 5, 1))  # Set x-axis ticks with a step of 1\n",
        "# ax.set_yticks(range(0, 31, 5))  # Set y-axis ticks with a step of 5\n",
        "\n",
        "plt.plot(theta_values)\n",
        "plt.xlabel('Iteration')\n",
        "plt.ylabel('Theta')\n",
        "plt.title('Convergence of Theta')\n",
        "plt.show()"
      ],
      "metadata": {
        "colab": {
          "base_uri": "https://localhost:8080/",
          "height": 472
        },
        "id": "Arf7FAmXuTks",
        "outputId": "20935782-9f1d-4343-9694-78bfd29d8fc2"
      },
      "execution_count": 95,
      "outputs": [
        {
          "output_type": "display_data",
          "data": {
            "text/plain": [
              "<Figure size 640x480 with 1 Axes>"
            ],
            "image/png": "[encoded data removed]"
          },
          "metadata": {}
        }
      ]
    },
    {
      "cell_type": "markdown",
      "source": [
        "After 2 iterations, the error between the updated theta and the current theta is less than the error bound (epsilon). We return the theta value at that iteration."
      ],
      "metadata": {
        "id": "V2tvemXuAL5M"
      }
    },
    {
      "cell_type": "code",
      "source": [],
      "metadata": {
        "id": "EwnLv9pdxalV"
      },
      "execution_count": null,
      "outputs": []
    }
  ]
}